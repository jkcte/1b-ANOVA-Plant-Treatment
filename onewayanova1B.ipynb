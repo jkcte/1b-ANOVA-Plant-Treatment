{
 "cells": [
  {
   "cell_type": "code",
   "execution_count": 2,
   "metadata": {},
   "outputs": [
    {
     "data": {
      "text/html": [
       "<div>\n",
       "<style scoped>\n",
       "    .dataframe tbody tr th:only-of-type {\n",
       "        vertical-align: middle;\n",
       "    }\n",
       "\n",
       "    .dataframe tbody tr th {\n",
       "        vertical-align: top;\n",
       "    }\n",
       "\n",
       "    .dataframe thead th {\n",
       "        text-align: right;\n",
       "    }\n",
       "</style>\n",
       "<table border=\"1\" class=\"dataframe\">\n",
       "  <thead>\n",
       "    <tr style=\"text-align: right;\">\n",
       "      <th></th>\n",
       "      <th>weight</th>\n",
       "      <th>group</th>\n",
       "    </tr>\n",
       "  </thead>\n",
       "  <tbody>\n",
       "    <tr>\n",
       "      <th>0</th>\n",
       "      <td>4.17</td>\n",
       "      <td>ctrl</td>\n",
       "    </tr>\n",
       "    <tr>\n",
       "      <th>1</th>\n",
       "      <td>5.58</td>\n",
       "      <td>ctrl</td>\n",
       "    </tr>\n",
       "    <tr>\n",
       "      <th>2</th>\n",
       "      <td>5.18</td>\n",
       "      <td>ctrl</td>\n",
       "    </tr>\n",
       "    <tr>\n",
       "      <th>3</th>\n",
       "      <td>6.11</td>\n",
       "      <td>ctrl</td>\n",
       "    </tr>\n",
       "    <tr>\n",
       "      <th>4</th>\n",
       "      <td>4.50</td>\n",
       "      <td>ctrl</td>\n",
       "    </tr>\n",
       "  </tbody>\n",
       "</table>\n",
       "</div>"
      ],
      "text/plain": [
       "   weight group\n",
       "0    4.17  ctrl\n",
       "1    5.58  ctrl\n",
       "2    5.18  ctrl\n",
       "3    6.11  ctrl\n",
       "4    4.50  ctrl"
      ]
     },
     "execution_count": 2,
     "metadata": {},
     "output_type": "execute_result"
    }
   ],
   "source": [
    "import pandas as pd\n",
    "\n",
    "df = pd.read_csv('plantgrowth.csv')\n",
    "\n",
    "df.head()"
   ]
  },
  {
   "cell_type": "code",
   "execution_count": 4,
   "metadata": {},
   "outputs": [],
   "source": [
    "cntrl = df[df['group'] == 'ctrl']\n",
    "trt1 = df[df['group'] == 'trt1']\n",
    "trt2 = df[df['group'] == 'trt2']"
   ]
  },
  {
   "cell_type": "markdown",
   "metadata": {},
   "source": [
    "### Assumption 1 of One-Way Between-Groups ANOVA\n",
    "\n",
    "The first assumption of a One-Way Between-Groups ANOVA is that the dependent variable should be measured at a continuous level. In this case, the dependent variable is the weight of the plant growth.\n",
    "\n",
    "The weight of the plant growth is measured in a continuous scale, as it is represented by floating-point numbers. This can be observed in the `weight` column of the `df` DataFrame, which contains non-integer values such as 4.17, 5.58, 6.11, etc. Therefore, the weight of the plant growth meets the first assumption of being a continuous variable."
   ]
  },
  {
   "cell_type": "markdown",
   "metadata": {},
   "source": [
    "### Assumption 2 of One-Way Between-Groups ANOVA\n",
    "\n",
    "The second assumption of a One-Way Between-Groups ANOVA is that the independent variable should consist of two or more categorical, independent groups. In this case, the independent variable is the group, which consists of three categorical, independent groups: controlled (ctrl), treatment 1 (trt1), and treatment 2 (trt2)."
   ]
  },
  {
   "cell_type": "markdown",
   "metadata": {},
   "source": [
    "### Assumption 3 of One-Way 1B ANOVA\n",
    "\n",
    "The third assumption of a One-Way Between-Groups ANOVA is the independence of observations, which indicates that there is no relationship between the observations. Thus, in this case, there is no relationship between the observation indicating the assumption 3 is fulfilled"
   ]
  },
  {
   "cell_type": "code",
   "execution_count": 6,
   "metadata": {},
   "outputs": [
    {
     "data": {
      "text/plain": [
       "<Axes: title={'center': 'weight'}, xlabel='group'>"
      ]
     },
     "execution_count": 6,
     "metadata": {},
     "output_type": "execute_result"
    },
    {
     "data": {
      "image/png": "[encoded data removed]",
      "text/plain": [
       "<Figure size 640x480 with 1 Axes>"
      ]
     },
     "metadata": {},
     "output_type": "display_data"
    }
   ],
   "source": [
    "\n",
    "df.boxplot(column='weight', by='group', grid=False)"
   ]
  },
  {
   "cell_type": "code",
   "execution_count": 20,
   "metadata": {},
   "outputs": [
    {
     "data": {
      "text/html": [
       "<div>\n",
       "<style scoped>\n",
       "    .dataframe tbody tr th:only-of-type {\n",
       "        vertical-align: middle;\n",
       "    }\n",
       "\n",
       "    .dataframe tbody tr th {\n",
       "        vertical-align: top;\n",
       "    }\n",
       "\n",
       "    .dataframe thead th {\n",
       "        text-align: right;\n",
       "    }\n",
       "</style>\n",
       "<table border=\"1\" class=\"dataframe\">\n",
       "  <thead>\n",
       "    <tr style=\"text-align: right;\">\n",
       "      <th></th>\n",
       "      <th>weight</th>\n",
       "      <th>group</th>\n",
       "      <th>weight_scaled</th>\n",
       "    </tr>\n",
       "  </thead>\n",
       "  <tbody>\n",
       "    <tr>\n",
       "      <th>0</th>\n",
       "      <td>4.17</td>\n",
       "      <td>ctrl</td>\n",
       "      <td>-1.309823</td>\n",
       "    </tr>\n",
       "    <tr>\n",
       "      <th>1</th>\n",
       "      <td>5.58</td>\n",
       "      <td>ctrl</td>\n",
       "      <td>0.735415</td>\n",
       "    </tr>\n",
       "    <tr>\n",
       "      <th>2</th>\n",
       "      <td>5.18</td>\n",
       "      <td>ctrl</td>\n",
       "      <td>0.155206</td>\n",
       "    </tr>\n",
       "    <tr>\n",
       "      <th>3</th>\n",
       "      <td>6.11</td>\n",
       "      <td>ctrl</td>\n",
       "      <td>1.504193</td>\n",
       "    </tr>\n",
       "    <tr>\n",
       "      <th>4</th>\n",
       "      <td>4.50</td>\n",
       "      <td>ctrl</td>\n",
       "      <td>-0.831150</td>\n",
       "    </tr>\n",
       "  </tbody>\n",
       "</table>\n",
       "</div>"
      ],
      "text/plain": [
       "   weight group  weight_scaled\n",
       "0    4.17  ctrl      -1.309823\n",
       "1    5.58  ctrl       0.735415\n",
       "2    5.18  ctrl       0.155206\n",
       "3    6.11  ctrl       1.504193\n",
       "4    4.50  ctrl      -0.831150"
      ]
     },
     "execution_count": 20,
     "metadata": {},
     "output_type": "execute_result"
    }
   ],
   "source": [
    "from sklearn.preprocessing import StandardScaler\n",
    "\n",
    "scaler = StandardScaler()\n",
    "df['weight_scaled'] = StandardScaler().fit_transform(df[['weight']])\n",
    "df.head()"
   ]
  },
  {
   "cell_type": "code",
   "execution_count": 21,
   "metadata": {},
   "outputs": [
    {
     "data": {
      "text/plain": [
       "<Axes: title={'center': 'weight_scaled'}, xlabel='group'>"
      ]
     },
     "execution_count": 21,
     "metadata": {},
     "output_type": "execute_result"
    },
    {
     "data": {
      "image/png": "[encoded data removed]",
      "text/plain": [
       "<Figure size 640x480 with 1 Axes>"
      ]
     },
     "metadata": {},
     "output_type": "display_data"
    }
   ],
   "source": [
    "df.boxplot(column='weight_scaled', by='group', grid=False)"
   ]
  },
  {
   "cell_type": "code",
   "execution_count": null,
   "metadata": {},
   "outputs": [
    {
     "name": "stderr",
     "output_type": "stream",
     "text": [
      "d:\\GITHUB\\1b-ANOVA-Plant-Treatment\\.env\\Lib\\site-packages\\sklearn\\preprocessing\\_data.py:2785: UserWarning: n_quantiles (100) is greater than the total number of samples (30). n_quantiles is set to n_samples.\n",
      "  warnings.warn(\n"
     ]
    },
    {
     "data": {
      "text/plain": [
       "<Axes: title={'center': 'weight'}, xlabel='group'>"
      ]
     },
     "execution_count": 24,
     "metadata": {},
     "output_type": "execute_result"
    },
    {
     "data": {
      "image/png": "[encoded data removed]",
      "text/plain": [
       "<Figure size 640x480 with 1 Axes>"
      ]
     },
     "metadata": {},
     "output_type": "display_data"
    }
   ],
   "source": [
    "from sklearn.preprocessing import QuantileTransformer\n",
    "\n",
    "quantile_transformer = QuantileTransformer(n_quantiles=100)\n",
    "df['weight'] = quantile_transformer.fit_transform(df[['weight']])\n",
    "\n",
    "df.boxplot(column='weight', by='group', grid=False)"
   ]
  },
  {
   "cell_type": "code",
   "execution_count": null,
   "metadata": {},
   "outputs": [
    {
     "data": {
      "text/plain": [
       "<Axes: title={'center': 'weight'}, xlabel='group'>"
      ]
     },
     "execution_count": 23,
     "metadata": {},
     "output_type": "execute_result"
    },
    {
     "data": {
      "image/png": "[encoded data removed]",
      "text/plain": [
       "<Figure size 640x480 with 1 Axes>"
      ]
     },
     "metadata": {},
     "output_type": "display_data"
    }
   ],
   "source": []
  },
  {
   "cell_type": "code",
   "execution_count": 25,
   "metadata": {},
   "outputs": [
    {
     "data": {
      "text/plain": [
       "masked_array(data=[0.0862069 , 0.79310345, 0.55172414, 0.93103448,\n",
       "                   0.20689655, 0.27586207, 0.51724138, 0.24137931,\n",
       "                   0.65517241, 0.48275862, 0.34482759, 0.0862069 ,\n",
       "                   0.17241379, 0.03448276, 0.86206897, 0.03448276,\n",
       "                   0.89655172, 0.37931034, 0.13793103, 0.31034483,\n",
       "                   0.96551724, 0.44827586, 0.75862069, 0.72413793,\n",
       "                   0.68965517, 0.62068966, 0.4137931 , 0.96551724,\n",
       "                   0.82758621, 0.5862069 ],\n",
       "             mask=False,\n",
       "       fill_value=1e+20)"
      ]
     },
     "execution_count": 25,
     "metadata": {},
     "output_type": "execute_result"
    }
   ],
   "source": [
    "import numpy as np\n",
    "from scipy.stats.mstats import winsorize\n",
    "winsorize(df['weight'], limits=[0.05, 0.05])"
   ]
  },
  {
   "cell_type": "code",
   "execution_count": null,
   "metadata": {},
   "outputs": [
    {
     "data": {
      "text/plain": [
       "<Axes: title={'center': 'weight_winsorized'}, xlabel='group'>"
      ]
     },
     "execution_count": 26,
     "metadata": {},
     "output_type": "execute_result"
    },
    {
     "data": {
      "image/png": "[encoded data removed]",
      "text/plain": [
       "<Figure size 640x480 with 1 Axes>"
      ]
     },
     "metadata": {},
     "output_type": "display_data"
    }
   ],
   "source": [
    "df['weight_winsorized'] = winsorize(df['weight'], limits=[0.05, 0.05])\n",
    "\n",
    "df.boxplot(column='weight_winsorized', by='group', grid=False)"
   ]
  },
  {
   "cell_type": "markdown",
   "metadata": {},
   "source": [
    "### Assumption 4 of One-Way Between-Groups ANOVA\n",
    "\n",
    "The fourth assumption of a One-Way Between-Groups ANOVA is that there should be no significant outliers. Outliers can have a significant impact on the results of the ANOVA, leading to incorrect conclusions.\n",
    "\n",
    "In this case, we have identified a significant outlier in the 'weight' column. This violates the assumption of no significant outliers. To address this issue, we have applied the Winsorization technique to the 'weight' column to reduce the impact of the outlier.\n"
   ]
  },
  {
   "cell_type": "code",
   "execution_count": null,
   "metadata": {},
   "outputs": [
    {
     "name": "stdout",
     "output_type": "stream",
     "text": [
      "Statistic: 0.9464605922532539, p-value: 0.13581710834479643\n"
     ]
    }
   ],
   "source": [
    "from scipy.stats import shapiro\n",
    "\n",
    "stat, p_value = shapiro(df['weight'])\n",
    "\n",
    "print(f'Statistic: {stat}, p-value: {p_value}')"
   ]
  },
  {
   "cell_type": "code",
   "execution_count": null,
   "metadata": {},
   "outputs": [
    {
     "name": "stdout",
     "output_type": "stream",
     "text": [
      "Control Group - Statistic: 0.9566814905276368, p-value: 0.7474734451902585\n",
      "Treatment 1 Group - Statistic: 0.9304106932921845, p-value: 0.45194395810927823\n",
      "Treatment 2 Group - Statistic: 0.9410051970546394, p-value: 0.5642518926711526\n"
     ]
    }
   ],
   "source": [
    "from scipy.stats import shapiro\n",
    "\n",
    "\n",
    "stat_ctrl, p_value_ctrl = shapiro(cntrl['weight'])\n",
    "stat_trt1, p_value_trt1 = shapiro(trt1['weight'])\n",
    "stat_trt2, p_value_trt2 = shapiro(trt2['weight'])\n",
    "\n",
    "print(f'Control Group - Statistic: {stat_ctrl}, p-value: {p_value_ctrl}')\n",
    "print(f'Treatment 1 Group - Statistic: {stat_trt1}, p-value: {p_value_trt1}')\n",
    "print(f'Treatment 2 Group - Statistic: {stat_trt2}, p-value: {p_value_trt2}')"
   ]
  },
  {
   "cell_type": "markdown",
   "metadata": {},
   "source": [
    "### Assumption 5 of One-Way Between-Groups ANOVA\n",
    "\n",
    "The fifth assumption of a One-Way Between-Groups ANOVA is that the dependent variable should be approximately normally distributed for each group. \n",
    "\n",
    "In this case, we have performed the Shapiro-Wilk test on the 'weight' column to check for normality. The p-value obtained from the test is 0.1358, which is greater than the common alpha level of 0.05. This indicates that the 'weight' data does not significantly deviate from a normal distribution. Therefore, the assumption of normality is not violated for the 'weight' variable in each group."
   ]
  },
  {
   "cell_type": "code",
   "execution_count": null,
   "metadata": {},
   "outputs": [
    {
     "name": "stdout",
     "output_type": "stream",
     "text": [
      "Statistic: 1.1191856948703909, p-value: 0.3412266241254737\n"
     ]
    }
   ],
   "source": [
    "from scipy.stats import levene\n",
    "\n",
    "\n",
    "stat, p_value = levene(cntrl['weight'], trt1['weight'], trt2['weight'])\n",
    "\n",
    "print(f'Statistic: {stat}, p-value: {p_value}')"
   ]
  },
  {
   "cell_type": "markdown",
   "metadata": {},
   "source": [
    "### Assumption 6 of One-Way Between-Groups ANOVA\n",
    "\n",
    "The sixth assumption of a One-Way Between-Groups ANOVA is the homogeneity of variances. This assumption states that the variances of the dependent variable should be equal across the groups.\n",
    "\n",
    "In this case, we have performed Levene's test to check for the homogeneity of variances. The p-value obtained from the test is 0.3412, which is greater than the common alpha level of 0.05. This indicates that the variances are not significantly different across the groups. Therefore, the assumption of homogeneity of variances is not violated."
   ]
  },
  {
   "cell_type": "code",
   "execution_count": null,
   "metadata": {},
   "outputs": [
    {
     "name": "stdout",
     "output_type": "stream",
     "text": [
      "Statistic: 7.988228749443715, p-value: 0.018423755731471963\n"
     ]
    }
   ],
   "source": [
    "from scipy.stats import kruskal\n",
    "\n",
    "\n",
    "stat, p_value = kruskal(cntrl['weight'], trt1['weight'], trt2['weight'])\n",
    "\n",
    "print(f'Statistic: {stat}, p-value: {p_value}')"
   ]
  },
  {
   "cell_type": "code",
   "execution_count": null,
   "metadata": {},
   "outputs": [
    {
     "name": "stdout",
     "output_type": "stream",
     "text": [
      "Statistic: 4.846087862380136, p-value: 0.015909958325622895\n"
     ]
    }
   ],
   "source": [
    "from scipy.stats import f_oneway\n",
    "\n",
    "\n",
    "stat, p_value = f_oneway(cntrl['weight'], trt1['weight'], trt2['weight'])\n",
    "\n",
    "print(f'Statistic: {stat}, p-value: {p_value}')"
   ]
  },
  {
   "cell_type": "markdown",
   "metadata": {},
   "source": [
    "### Conclusion\n",
    "\n",
    "Both the non-parametric test (Kruskal-Wallis test) and the parametric test (One-Way ANOVA) successfully reject the null hypothesis. This indicates that there is a significant difference between the means of the groups."
   ]
  },
  {
   "cell_type": "code",
   "execution_count": null,
   "metadata": {},
   "outputs": [
    {
     "name": "stdout",
     "output_type": "stream",
     "text": [
      "Multiple Comparison of Means - Tukey HSD, FWER=0.05\n",
      "===================================================\n",
      "group1 group2 meandiff p-adj   lower  upper  reject\n",
      "---------------------------------------------------\n",
      "  ctrl   trt1  -0.1483 0.4342 -0.4421 0.1455  False\n",
      "  ctrl   trt2   0.2259 0.1563 -0.0679 0.5196  False\n",
      "  trt1   trt2   0.3741 0.0105  0.0804 0.6679   True\n",
      "---------------------------------------------------\n"
     ]
    }
   ],
   "source": [
    "from statsmodels.stats.multicomp import pairwise_tukeyhsd\n",
    "\n",
    "\n",
    "tukey = pairwise_tukeyhsd(endog=df['weight'], groups=df['group'], alpha=0.05)\n",
    "\n",
    "print(tukey)"
   ]
  },
  {
   "cell_type": "markdown",
   "metadata": {},
   "source": [
    "# APA Style Report\n",
    "\n",
    "## Introduction\n",
    "\n",
    "This report investigates the effect of different treatments on plant growth. The dataset used in this analysis contains the weight of plants under three different conditions: control (ctrl), treatment 1 (trt1), and treatment 2 (trt2). The analysis includes checking assumptions for One-Way Between-Groups ANOVA, performing the ANOVA test, and conducting post-hoc analysis using Tukey's HSD test.\n",
    "\n",
    "## Data Preparation\n",
    "\n",
    "The dataset was loaded and divided into three groups based on the treatment conditions:\n",
    "\n",
    "```python\n",
    "import pandas as pd\n",
    "\n",
    "df = pd.read_csv('plantgrowth.csv')\n",
    "\n",
    "cntrl = df[df['group'] == 'ctrl']\n",
    "trt1 = df[df['group'] == 'trt1']\n",
    "trt2 = df[df['group'] == 'trt2']\n",
    "```\n",
    "\n",
    "## Assumptions of One-Way Between-Groups ANOVA\n",
    "\n",
    "### Assumption 1: Dependent Variable Measurement Level\n",
    "\n",
    "The dependent variable, plant weight, is measured at a continuous level. The `weight` column in the dataset contains floating-point numbers, indicating that the measurement is continuous.\n",
    "\n",
    "### Assumption 2: Independent Variable Groups\n",
    "\n",
    "The independent variable consists of three categorical, independent groups: control (ctrl), treatment 1 (trt1), and treatment 2 (trt2).\n",
    "\n",
    "### Assumption 3: Independence of Observations\n",
    "\n",
    "The observations are independent, meaning there is no relationship between the observations in each group.\n",
    "\n",
    "### Assumption 4: No Significant Outliers\n",
    "\n",
    "Outliers can significantly impact the results of ANOVA. A boxplot was used to identify outliers:\n",
    "\n",
    "```python\n",
    "df.boxplot(column='weight', by='group', grid=False)\n",
    "```\n",
    "\n",
    "A significant outlier was identified in the `weight` column. Winsorization was applied to reduce the impact of the outlier:\n",
    "\n",
    "```python\n",
    "from scipy.stats.mstats import winsorize\n",
    "\n",
    "df['weight_winsorized'] = winsorize(df['weight'], limits=[0.05, 0.05])\n",
    "df.boxplot(column='weight_winsorized', by='group', grid=False)\n",
    "```\n",
    "\n",
    "### Assumption 5: Normality\n",
    "\n",
    "The Shapiro-Wilk test was performed to check for normality:\n",
    "\n",
    "```python\n",
    "from scipy.stats import shapiro\n",
    "\n",
    "stat_ctrl, p_value_ctrl = shapiro(cntrl['weight'])\n",
    "stat_trt1, p_value_trt1 = shapiro(trt1['weight'])\n",
    "stat_trt2, p_value_trt2 = shapiro(trt2['weight'])\n",
    "\n",
    "print(f'Control Group - Statistic: {stat_ctrl}, p-value: {p_value_ctrl}')\n",
    "print(f'Treatment 1 Group - Statistic: {stat_trt1}, p-value: {p_value_trt1}')\n",
    "print(f'Treatment 2 Group - Statistic: {stat_trt2}, p-value: {p_value_trt2}')\n",
    "```\n",
    "\n",
    "The p-values obtained from the Shapiro-Wilk test were greater than 0.05, indicating that the weight data does not significantly deviate from a normal distribution.\n",
    "\n",
    "### Assumption 6: Homogeneity of Variances\n",
    "\n",
    "Levene's test was performed to check for homogeneity of variances:\n",
    "\n",
    "```python\n",
    "from scipy.stats import levene\n",
    "\n",
    "stat, p_value = levene(cntrl['weight'], trt1['weight'], trt2['weight'])\n",
    "\n",
    "print(f'Statistic: {stat}, p-value: {p_value}')\n",
    "```\n",
    "\n",
    "The p-value obtained from Levene's test was greater than 0.05, indicating that the variances are not significantly different across the groups.\n",
    "\n",
    "## One-Way Between-Groups ANOVA\n",
    "\n",
    "A one-way ANOVA was conducted to compare the effect of different treatments on plant growth:\n",
    "\n",
    "```python\n",
    "from scipy.stats import f_oneway\n",
    "\n",
    "stat, p_value = f_oneway(cntrl['weight'], trt1['weight'], trt2['weight'])\n",
    "\n",
    "print(f'Statistic: {stat}, p-value: {p_value}')\n",
    "```\n",
    "\n",
    "The ANOVA test successfully rejected the null hypothesis, indicating a significant difference between the means of the groups.\n",
    "\n",
    "## Post-Hoc Analysis\n",
    "\n",
    "Tukey's HSD test was performed to determine which groups differ from each other:\n",
    "\n",
    "```python\n",
    "from statsmodels.stats.multicomp import pairwise_tukeyhsd\n",
    "from scipy.stats import kruskal\n",
    "\n",
    "tukey = pairwise_tukeyhsd(endog=df['weight'], groups=df['group'], alpha=0.05)\n",
    "\n",
    "print(tukey)\n",
    "```\n",
    "\n",
    "## Conclusion\n",
    "\n",
    "Both the non-parametric test (Kruskal-Wallis test) and the parametric test (One-Way ANOVA) successfully rejected the null hypothesis, indicating a significant difference between the means of the groups. The post-hoc analysis using Tukey's HSD test further identified the specific groups that differ from each other.\n",
    "## Non-Parametric Test: Kruskal-Wallis Test\n",
    "\n",
    "Due to the presence of significant outliers, a Kruskal-Wallis test was performed as a non-parametric alternative to ANOVA:\n",
    "\n",
    "\n",
    "stat, p_value = kruskal(cntrl['weight'], trt1['weight'], trt2['weight'])\n",
    "\n",
    "print(f'Statistic: {stat}, p-value: {p_value}')\n",
    "\n",
    "The Kruskal-Wallis test also rejected the null hypothesis, indicating a significant difference between the groups."
   ]
  }
 ],
 "metadata": {
  "kernelspec": {
   "display_name": ".env",
   "language": "python",
   "name": "python3"
  },
  "language_info": {
   "codemirror_mode": {
    "name": "ipython",
    "version": 3
   },
   "file_extension": ".py",
   "mimetype": "text/x-python",
   "name": "python",
   "nbconvert_exporter": "python",
   "pygments_lexer": "ipython3",
   "version": "3.12.4"
  }
 },
 "nbformat": 4,
 "nbformat_minor": 2
}
